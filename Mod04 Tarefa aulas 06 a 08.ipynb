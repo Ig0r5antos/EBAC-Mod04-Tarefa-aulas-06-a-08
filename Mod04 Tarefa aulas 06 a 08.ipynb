{
 "cells": [
  {
   "cell_type": "markdown",
   "metadata": {},
   "source": [
    "# Tarefa 03\n",
    "\n",
    "- Leia os enunciados com atenção\n",
    "- Saiba que pode haver mais de uma resposta correta\n",
    "- Insira novas células de código sempre que achar necessário\n",
    "- Em caso de dúvidas, procure os Tutores\n",
    "- Divirta-se :)"
   ]
  },
  {
   "cell_type": "code",
   "execution_count": 19,
   "metadata": {},
   "outputs": [],
   "source": [
    "import pandas as pd\n",
    "import requests"
   ]
  },
  {
   "cell_type": "markdown",
   "metadata": {},
   "source": [
    "####  1) Lendo de APIs\n",
    "Vimos em aula como carregar dados públicos do governo através de um API (*Application Programming Interface*). No exemplo de aula, baixamos os dados de pedidos de verificação de limites (PVL) realizados por estados, e selecionamos apenas aqueles referentes ao estado de São Paulo.\n",
    "\n",
    "1. Repita os mesmos passos feitos em aula, mas selecione os PVLs realizados por municípios no estado do Rio de Janeiro.\n",
    "2. Quais são os três *status* das solicitações mais frequentes na base? Quais são suas frequências?\n",
    "3. Construa uma nova variável que contenha o ano do **status**. Observe que ```data_status``` vem como tipo *object* no **DataFrame**. Dica: você pode usar o método ```.str``` para transformar o tipo da variável em string, em seguida um método como [**slice()**](https://pandas.pydata.org/docs/reference/api/pandas.Series.str.slice.html) ou [**split()**](https://pandas.pydata.org/pandas-docs/stable/reference/api/pandas.Series.str.split.html).\n",
    "4. Indique a frequência de cada ano do campo construído no item (3)."
   ]
  },
  {
   "cell_type": "code",
   "execution_count": 3,
   "metadata": {},
   "outputs": [
    {
     "data": {
      "text/html": [
       "<div>\n",
       "<style scoped>\n",
       "    .dataframe tbody tr th:only-of-type {\n",
       "        vertical-align: middle;\n",
       "    }\n",
       "\n",
       "    .dataframe tbody tr th {\n",
       "        vertical-align: top;\n",
       "    }\n",
       "\n",
       "    .dataframe thead th {\n",
       "        text-align: right;\n",
       "    }\n",
       "</style>\n",
       "<table border=\"1\" class=\"dataframe\">\n",
       "  <thead>\n",
       "    <tr style=\"text-align: right;\">\n",
       "      <th></th>\n",
       "      <th>id_pleito</th>\n",
       "      <th>tipo_interessado</th>\n",
       "      <th>interessado</th>\n",
       "      <th>cod_ibge</th>\n",
       "      <th>uf</th>\n",
       "      <th>num_pvl</th>\n",
       "      <th>status</th>\n",
       "      <th>num_processo</th>\n",
       "      <th>data_protocolo</th>\n",
       "      <th>tipo_operacao</th>\n",
       "      <th>finalidade</th>\n",
       "      <th>tipo_credor</th>\n",
       "      <th>credor</th>\n",
       "      <th>moeda</th>\n",
       "      <th>valor</th>\n",
       "      <th>pvl_assoc_divida</th>\n",
       "      <th>pvl_contradado_credor</th>\n",
       "      <th>data_status</th>\n",
       "    </tr>\n",
       "  </thead>\n",
       "  <tbody>\n",
       "    <tr>\n",
       "      <th>0</th>\n",
       "      <td>5408</td>\n",
       "      <td>Município</td>\n",
       "      <td>Pratânia</td>\n",
       "      <td>3541059</td>\n",
       "      <td>SP</td>\n",
       "      <td>None</td>\n",
       "      <td>Arquivado por decurso de prazo</td>\n",
       "      <td>17944.000106/2014-60</td>\n",
       "      <td>2013-12-26T02:00:00Z</td>\n",
       "      <td>Operação contratual interna</td>\n",
       "      <td>Caminho da Escola</td>\n",
       "      <td>Instituição Financeira Nacional</td>\n",
       "      <td>Banco do Brasil S/A</td>\n",
       "      <td>Real</td>\n",
       "      <td>455560.0</td>\n",
       "      <td>0</td>\n",
       "      <td>0</td>\n",
       "      <td>16/10/2014</td>\n",
       "    </tr>\n",
       "    <tr>\n",
       "      <th>1</th>\n",
       "      <td>5421</td>\n",
       "      <td>Município</td>\n",
       "      <td>Alvorada do Oeste</td>\n",
       "      <td>1100346</td>\n",
       "      <td>RO</td>\n",
       "      <td>None</td>\n",
       "      <td>Regularizado</td>\n",
       "      <td>17944.000110/2007-07</td>\n",
       "      <td>2007-05-31T03:00:00Z</td>\n",
       "      <td>Operação contratual interna</td>\n",
       "      <td>Regularização de Dívida - Energia Elétrica</td>\n",
       "      <td>Empresa Estatal</td>\n",
       "      <td>Centrais Elétricas de Rondônia S/A</td>\n",
       "      <td>Real</td>\n",
       "      <td>97595.8</td>\n",
       "      <td>0</td>\n",
       "      <td>0</td>\n",
       "      <td>08/06/2007</td>\n",
       "    </tr>\n",
       "  </tbody>\n",
       "</table>\n",
       "</div>"
      ],
      "text/plain": [
       "   id_pleito tipo_interessado        interessado  cod_ibge  uf num_pvl  \\\n",
       "0       5408        Município           Pratânia   3541059  SP    None   \n",
       "1       5421        Município  Alvorada do Oeste   1100346  RO    None   \n",
       "\n",
       "                           status          num_processo        data_protocolo  \\\n",
       "0  Arquivado por decurso de prazo  17944.000106/2014-60  2013-12-26T02:00:00Z   \n",
       "1                    Regularizado  17944.000110/2007-07  2007-05-31T03:00:00Z   \n",
       "\n",
       "                 tipo_operacao                                  finalidade  \\\n",
       "0  Operação contratual interna                           Caminho da Escola   \n",
       "1  Operação contratual interna  Regularização de Dívida - Energia Elétrica   \n",
       "\n",
       "                       tipo_credor                              credor moeda  \\\n",
       "0  Instituição Financeira Nacional                 Banco do Brasil S/A  Real   \n",
       "1                  Empresa Estatal  Centrais Elétricas de Rondônia S/A  Real   \n",
       "\n",
       "      valor  pvl_assoc_divida  pvl_contradado_credor data_status  \n",
       "0  455560.0                 0                      0  16/10/2014  \n",
       "1   97595.8                 0                      0  08/06/2007  "
      ]
     },
     "execution_count": 3,
     "metadata": {},
     "output_type": "execute_result"
    }
   ],
   "source": [
    "url = \"https://apidatalake.tesouro.gov.br/ords/sadipem/tt/pvl\"\n",
    "r = requests.get(url)\n",
    "data_json = r.json()\n",
    "base = pd.DataFrame(data_json[\"items\"])\n",
    "base.head(2)"
   ]
  },
  {
   "cell_type": "code",
   "execution_count": 4,
   "metadata": {},
   "outputs": [
    {
     "name": "stdout",
     "output_type": "stream",
     "text": [
      "<class 'pandas.core.frame.DataFrame'>\n",
      "RangeIndex: 5000 entries, 0 to 4999\n",
      "Data columns (total 18 columns):\n",
      " #   Column                 Non-Null Count  Dtype  \n",
      "---  ------                 --------------  -----  \n",
      " 0   id_pleito              5000 non-null   int64  \n",
      " 1   tipo_interessado       5000 non-null   object \n",
      " 2   interessado            5000 non-null   object \n",
      " 3   cod_ibge               5000 non-null   int64  \n",
      " 4   uf                     5000 non-null   object \n",
      " 5   num_pvl                1799 non-null   object \n",
      " 6   status                 5000 non-null   object \n",
      " 7   num_processo           4076 non-null   object \n",
      " 8   data_protocolo         4076 non-null   object \n",
      " 9   tipo_operacao          5000 non-null   object \n",
      " 10  finalidade             5000 non-null   object \n",
      " 11  tipo_credor            5000 non-null   object \n",
      " 12  credor                 5000 non-null   object \n",
      " 13  moeda                  5000 non-null   object \n",
      " 14  valor                  5000 non-null   float64\n",
      " 15  pvl_assoc_divida       5000 non-null   int64  \n",
      " 16  pvl_contradado_credor  5000 non-null   int64  \n",
      " 17  data_status            5000 non-null   object \n",
      "dtypes: float64(1), int64(4), object(13)\n",
      "memory usage: 703.3+ KB\n"
     ]
    }
   ],
   "source": [
    "base.info()"
   ]
  },
  {
   "cell_type": "code",
   "execution_count": 5,
   "metadata": {},
   "outputs": [
    {
     "data": {
      "text/plain": [
       "Index(['id_pleito', 'tipo_interessado', 'interessado', 'cod_ibge', 'uf',\n",
       "       'num_pvl', 'status', 'num_processo', 'data_protocolo', 'tipo_operacao',\n",
       "       'finalidade', 'tipo_credor', 'credor', 'moeda', 'valor',\n",
       "       'pvl_assoc_divida', 'pvl_contradado_credor', 'data_status'],\n",
       "      dtype='object')"
      ]
     },
     "execution_count": 5,
     "metadata": {},
     "output_type": "execute_result"
    }
   ],
   "source": [
    "base.columns"
   ]
  },
  {
   "cell_type": "code",
   "execution_count": 6,
   "metadata": {},
   "outputs": [],
   "source": [
    "# 1) Seu código aqui\n",
    "RJ = base[base['uf'] == 'RJ']"
   ]
  },
  {
   "cell_type": "code",
   "execution_count": 7,
   "metadata": {},
   "outputs": [
    {
     "name": "stdout",
     "output_type": "stream",
     "text": [
      "Os três status mais frequentes são:\n",
      "status\n",
      "Deferido                                                 27\n",
      "Arquivado                                                20\n",
      "Encaminhado à PGFN com manifestação técnica favorável    13\n",
      "Name: count, dtype: int64\n"
     ]
    }
   ],
   "source": [
    "# 2) Seu código aqui\n",
    "sts = RJ['status'].value_counts()\n",
    "print(\"Os três status mais frequentes são:\")\n",
    "print(sts.head(3))"
   ]
  },
  {
   "cell_type": "code",
   "execution_count": 14,
   "metadata": {
    "scrolled": true
   },
   "outputs": [
    {
     "name": "stderr",
     "output_type": "stream",
     "text": [
      "C:\\Users\\VIPEXGRU174\\AppData\\Local\\Temp\\ipykernel_23344\\3579284969.py:2: SettingWithCopyWarning: \n",
      "A value is trying to be set on a copy of a slice from a DataFrame.\n",
      "Try using .loc[row_indexer,col_indexer] = value instead\n",
      "\n",
      "See the caveats in the documentation: https://pandas.pydata.org/pandas-docs/stable/user_guide/indexing.html#returning-a-view-versus-a-copy\n",
      "  RJ['data_status'] = RJ['data_status'].astype(str)\n",
      "C:\\Users\\VIPEXGRU174\\AppData\\Local\\Temp\\ipykernel_23344\\3579284969.py:3: SettingWithCopyWarning: \n",
      "A value is trying to be set on a copy of a slice from a DataFrame.\n",
      "Try using .loc[row_indexer,col_indexer] = value instead\n",
      "\n",
      "See the caveats in the documentation: https://pandas.pydata.org/pandas-docs/stable/user_guide/indexing.html#returning-a-view-versus-a-copy\n",
      "  RJ['ano'] = RJ['data_status'].str.split('/').str[-1]\n"
     ]
    },
    {
     "data": {
      "text/plain": [
       "5       2014\n",
       "7       2014\n",
       "22      2010\n",
       "40      2008\n",
       "42      2014\n",
       "        ... \n",
       "4502    2022\n",
       "4695    2011\n",
       "4868    2019\n",
       "4969    2019\n",
       "4973    2019\n",
       "Name: ano, Length: 72, dtype: object"
      ]
     },
     "execution_count": 14,
     "metadata": {},
     "output_type": "execute_result"
    }
   ],
   "source": [
    "# 3) Seu código aqui\n",
    "RJ['data_status'] = RJ['data_status'].astype(str)\n",
    "RJ['ano'] = RJ['data_status'].str.split('/').str[-1]\n",
    "RJ['ano']\n",
    "\n",
    "\n"
   ]
  },
  {
   "cell_type": "code",
   "execution_count": 15,
   "metadata": {},
   "outputs": [
    {
     "data": {
      "text/plain": [
       "ano\n",
       "2008    12\n",
       "2014    11\n",
       "2010     8\n",
       "2007     7\n",
       "2013     5\n",
       "2015     4\n",
       "2023     4\n",
       "2011     4\n",
       "2012     3\n",
       "2009     3\n",
       "2019     3\n",
       "2006     2\n",
       "2022     2\n",
       "2018     1\n",
       "2020     1\n",
       "2016     1\n",
       "2004     1\n",
       "Name: count, dtype: int64"
      ]
     },
     "execution_count": 15,
     "metadata": {},
     "output_type": "execute_result"
    }
   ],
   "source": [
    "RJ['ano'].value_counts()"
   ]
  },
  {
   "cell_type": "markdown",
   "metadata": {},
   "source": [
    "####  2) Melhorando a interação com o API\n",
    "Observe dois URLs de consultas diferentes, por exemplo o URL utilizado em aula, e o URL feito no exercício anterior. Compare-os e observe as diferenças.\n",
    "\n",
    "1. Faça uma função em Python que recebe como argumento o UF da consulta e o tipo de interessado (```'Estado'```ou ```Município```), e que devolve os dados da consulta no formato *DataFrame*.\n",
    "2. Quantas solicitações para o Estado podem ser consultadas para Minas Gerais com *status* em 'Arquivado por decurso de prazo' estão registradas?\n",
    "3. Qual é o município da Bahia com mais solicitações deferidas?\n",
    "4. Salve um arquivo .csv com os dados de solicitações da Bahia, com interessado = 'Estado'"
   ]
  },
  {
   "cell_type": "code",
   "execution_count": 23,
   "metadata": {},
   "outputs": [],
   "source": [
    "#1) Seu código aqui\n",
    "def ConsultaGov(UF='', tipo_inter='Estado'):\n",
    "    \"\"\"\n",
    "    Função que consulta dados com base na UF e tipo de interessado.\n",
    "    \n",
    "    Parâmetros:\n",
    "    - uf: string, sigla da Unidade Federativa.\n",
    "    - tipo_interessado: string, tipo de interessado ('Estado' ou 'Município'). Definido como padrão a opção Estado\n",
    "    \n",
    "    Retorna:\n",
    "    - DataFrame filtrado com os dados da consulta.\n",
    "    \"\"\"\n",
    "    url = f'http://apidatalake.tesouro.gov.br/ords/sadipem/tt/pvl?uf={UF}&tipo_interessado={tipo_inter}'\n",
    "    r = requests.get(url)\n",
    "    data_json = r.json()\n",
    "    df = pd.DataFrame(data_json['items'])\n",
    "    return df"
   ]
  },
  {
   "cell_type": "code",
   "execution_count": 26,
   "metadata": {},
   "outputs": [
    {
     "data": {
      "text/plain": [
       "1"
      ]
     },
     "execution_count": 26,
     "metadata": {},
     "output_type": "execute_result"
    }
   ],
   "source": [
    "# 2) Seu código aqui\n",
    "UF = 'MG'\n",
    "consulta_MG = ConsultaGov(UF)\n",
    "consulta_MG.columns\n",
    "len(consulta_MG.loc[consulta_MG['status']=='Arquivado por decurso de prazo'])"
   ]
  },
  {
   "cell_type": "code",
   "execution_count": 28,
   "metadata": {},
   "outputs": [
    {
     "data": {
      "text/plain": [
       "interessado\n",
       "Camaçari                  20\n",
       "Salvador                  19\n",
       "Luís Eduardo Magalhães    19\n",
       "Vitória da Conquista      16\n",
       "Amargosa                  16\n",
       "                          ..\n",
       "Ubaíra                     1\n",
       "Ibipeba                    1\n",
       "Piatã                      1\n",
       "Serrolândia                1\n",
       "Licínio de Almeida         1\n",
       "Name: count, Length: 301, dtype: int64"
      ]
     },
     "execution_count": 28,
     "metadata": {},
     "output_type": "execute_result"
    }
   ],
   "source": [
    "# 3) Seu código aqui\n",
    "UF = 'BA'\n",
    "tipo_inter = 'Município'\n",
    "consulta_BA = ConsultaGov(UF,tipo_inter)\n",
    "consulta_BA['interessado'].value_counts()\n",
    "\n",
    "#Camaçari é o municipio com mais solicitações registradas"
   ]
  },
  {
   "cell_type": "code",
   "execution_count": 29,
   "metadata": {},
   "outputs": [],
   "source": [
    "# 4) Seu código aqui\n",
    "UF = 'BA'\n",
    "tipo_inter = 'Estado'\n",
    "consulta_BA_UF = ConsultaGov(UF,tipo_inter)\n",
    "consulta_BA_UF.to_csv('./Consulta_BA.csv', index = False)"
   ]
  }
 ],
 "metadata": {
  "kernelspec": {
   "display_name": "Python 3 (ipykernel)",
   "language": "python",
   "name": "python3"
  },
  "language_info": {
   "codemirror_mode": {
    "name": "ipython",
    "version": 3
   },
   "file_extension": ".py",
   "mimetype": "text/x-python",
   "name": "python",
   "nbconvert_exporter": "python",
   "pygments_lexer": "ipython3",
   "version": "3.11.7"
  }
 },
 "nbformat": 4,
 "nbformat_minor": 4
}
